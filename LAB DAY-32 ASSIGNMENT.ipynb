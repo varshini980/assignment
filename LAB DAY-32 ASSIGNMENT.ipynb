{
 "cells": [
  {
   "cell_type": "code",
   "execution_count": 2,
   "id": "cbccdf35",
   "metadata": {},
   "outputs": [
    {
     "name": "stdout",
     "output_type": "stream",
     "text": [
      "Top 5 Most Frequent Tokens:\n",
      "data: 3\n",
      "science: 3\n",
      "is: 2\n",
      "learning: 2\n",
      "fun: 1\n"
     ]
    },
    {
     "name": "stderr",
     "output_type": "stream",
     "text": [
      "[nltk_data] Downloading package punkt to\n",
      "[nltk_data]     C:\\Users\\vavil\\AppData\\Roaming\\nltk_data...\n",
      "[nltk_data]   Package punkt is already up-to-date!\n"
     ]
    }
   ],
   "source": [
    "import nltk\n",
    "from nltk.tokenize import word_tokenize\n",
    "from collections import Counter\n",
    "\n",
    "def calculate_term_frequency(file_path):\n",
    "    \"\"\"\n",
    "    Load a text file, perform tokenization, and calculate the term frequency (TF) of each token.\n",
    "    \n",
    "    :param file_path: Path to the text file\n",
    "    \"\"\"\n",
    "    try:\n",
    "        # Load the text file\n",
    "        with open(file_path, 'r') as file:\n",
    "            text = file.read()\n",
    "        \n",
    "        # Tokenize the text\n",
    "        tokens = word_tokenize(text)\n",
    "        \n",
    "        # Filter tokens to include only alphabetic words\n",
    "        words = [word.lower() for word in tokens if word.isalpha()]\n",
    "        \n",
    "        # Calculate term frequency (TF) using Counter\n",
    "        tf = Counter(words)\n",
    "        \n",
    "        # Display the top 5 most frequent tokens\n",
    "        print(\"Top 5 Most Frequent Tokens:\")\n",
    "        for word, count in tf.most_common(5):\n",
    "            print(f\"{word}: {count}\")\n",
    "    \n",
    "    except FileNotFoundError:\n",
    "        print(f\"Error: File '{file_path}' not found.\")\n",
    "    except Exception as e:\n",
    "        print(f\"An error occurred: {e}\")\n",
    "\n",
    "# Test the program\n",
    "if __name__ == \"__main__\":\n",
    "    nltk.download('punkt')  # Download the tokenizer data\n",
    "    file_path = r\"C:\\Users\\vavil\\Downloads\\Sample--1.txt\"  # Use your provided file path\n",
    "    calculate_term_frequency(file_path)\n"
   ]
  },
  {
   "cell_type": "code",
   "execution_count": null,
   "id": "cff1ec83",
   "metadata": {},
   "outputs": [],
   "source": []
  }
 ],
 "metadata": {
  "kernelspec": {
   "display_name": "Python 3 (ipykernel)",
   "language": "python",
   "name": "python3"
  },
  "language_info": {
   "codemirror_mode": {
    "name": "ipython",
    "version": 3
   },
   "file_extension": ".py",
   "mimetype": "text/x-python",
   "name": "python",
   "nbconvert_exporter": "python",
   "pygments_lexer": "ipython3",
   "version": "3.10.5"
  }
 },
 "nbformat": 4,
 "nbformat_minor": 5
}
