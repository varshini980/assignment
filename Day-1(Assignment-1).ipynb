{
 "cells": [
  {
   "cell_type": "code",
   "execution_count": 1,
   "metadata": {},
   "outputs": [
    {
     "name": "stdout",
     "output_type": "stream",
     "text": [
      "Integer Variable: 42 | Type: <class 'int'>\n",
      "Float Variable: 3.14 | Type: <class 'float'>\n",
      "String Variable: Hello, Sri Varshini | Type: <class 'str'>\n",
      "Boolean Variable: True | Type: <class 'bool'>\n"
     ]
    }
   ],
   "source": [
    "integer_var = 42\n",
    "float_var = 3.14\n",
    "string_var = \"Hello, Sri Varshini\"\n",
    "boolean_var = True\n",
    "\n",
    "print(\"Integer Variable:\", integer_var, \"| Type:\", type(integer_var))\n",
    "print(\"Float Variable:\", float_var, \"| Type:\", type(float_var))\n",
    "print(\"String Variable:\", string_var, \"| Type:\", type(string_var))\n",
    "print(\"Boolean Variable:\", boolean_var, \"| Type:\", type(boolean_var))\n"
   ]
  },
  {
   "cell_type": "code",
   "execution_count": null,
   "metadata": {},
   "outputs": [],
   "source": []
  }
 ],
 "metadata": {
  "kernelspec": {
   "display_name": "Python 3",
   "language": "python",
   "name": "python3"
  },
  "language_info": {
   "codemirror_mode": {
    "name": "ipython",
    "version": 3
   },
   "file_extension": ".py",
   "mimetype": "text/x-python",
   "name": "python",
   "nbconvert_exporter": "python",
   "pygments_lexer": "ipython3",
   "version": "3.12.8"
  }
 },
 "nbformat": 4,
 "nbformat_minor": 2
}
