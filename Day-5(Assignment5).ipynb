{
 "cells": [
  {
   "cell_type": "code",
   "execution_count": 1,
   "metadata": {},
   "outputs": [
    {
     "name": "stdout",
     "output_type": "stream",
     "text": [
      "'this': 2\n",
      "'is': 2\n",
      "'a': 1\n",
      "'sample': 1\n",
      "'text': 3\n",
      "'for': 1\n",
      "'counting': 1\n",
      "'word': 2\n",
      "'frequency': 1\n",
      "'the': 1\n",
      "'appears': 1\n",
      "'multiple': 1\n",
      "'times': 1\n"
     ]
    }
   ],
   "source": [
    "from collections import Counter\n",
    "import re\n",
    "\n",
    "# Function to calculate word frequency\n",
    "def word_frequency(text):\n",
    "    # Convert text to lowercase to make the counting case-insensitive\n",
    "    text = text.lower()\n",
    "    \n",
    "    # Use regular expressions to split the text into words (removing punctuation)\n",
    "    words = re.findall(r'\\b\\w+\\b', text)\n",
    "    \n",
    "    # Count the frequency of each word using Counter\n",
    "    word_count = Counter(words)\n",
    "    \n",
    "    # Print the word and its corresponding count\n",
    "    for word, count in word_count.items():\n",
    "        print(f\"'{word}': {count}\")\n",
    "\n",
    "# Sample text\n",
    "text = \"\"\"This is a sample text. This text is for counting word frequency. The word 'text' appears multiple times.\"\"\"\n",
    "\n",
    "# Call the function with the sample text\n",
    "word_frequency(text)\n"
   ]
  },
  {
   "cell_type": "code",
   "execution_count": null,
   "metadata": {},
   "outputs": [],
   "source": []
  }
 ],
 "metadata": {
  "kernelspec": {
   "display_name": "base",
   "language": "python",
   "name": "python3"
  },
  "language_info": {
   "codemirror_mode": {
    "name": "ipython",
    "version": 3
   },
   "file_extension": ".py",
   "mimetype": "text/x-python",
   "name": "python",
   "nbconvert_exporter": "python",
   "pygments_lexer": "ipython3",
   "version": "3.12.7"
  }
 },
 "nbformat": 4,
 "nbformat_minor": 2
}
