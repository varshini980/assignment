{
 "cells": [
  {
   "cell_type": "code",
   "execution_count": 2,
   "id": "9105ccd3-f348-4a6c-a079-97e1cb7630f7",
   "metadata": {},
   "outputs": [
    {
     "name": "stdout",
     "output_type": "stream",
     "text": [
      "['support@example.com', 'sales@example.org']\n"
     ]
    }
   ],
   "source": [
    "import re\n",
    "\n",
    "def extract_emails(input_string):\n",
    "    # Define the regular expression pattern for email addresses\n",
    "    email_pattern = r'[a-zA-Z0-9._%+-]+@[a-zA-Z0-9.-]+\\.[a-zA-Z]{2,}'\n",
    "    \n",
    "    # Use re.findall to find all email addresses in the input string\n",
    "    emails = re.findall(email_pattern, input_string)\n",
    "    \n",
    "    return emails\n",
    "\n",
    "# Test the function with the given input\n",
    "input_string = 'Contact us at support@example.com and sales@example.org.'\n",
    "emails = extract_emails(input_string)\n",
    "\n",
    "print(emails)\n"
   ]
  },
  {
   "cell_type": "code",
   "execution_count": null,
   "id": "28fa6abb-d996-4088-a84c-e618580a8c2d",
   "metadata": {},
   "outputs": [],
   "source": []
  }
 ],
 "metadata": {
  "kernelspec": {
   "display_name": "Python 3 (ipykernel)",
   "language": "python",
   "name": "python3"
  },
  "language_info": {
   "codemirror_mode": {
    "name": "ipython",
    "version": 3
   },
   "file_extension": ".py",
   "mimetype": "text/x-python",
   "name": "python",
   "nbconvert_exporter": "python",
   "pygments_lexer": "ipython3",
   "version": "3.12.7"
  }
 },
 "nbformat": 4,
 "nbformat_minor": 5
}
