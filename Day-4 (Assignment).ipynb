{
 "cells": [
  {
   "cell_type": "code",
   "execution_count": 1,
   "metadata": {},
   "outputs": [
    {
     "name": "stdout",
     "output_type": "stream",
     "text": [
      "The sum of all even numbers between 1 and 10 is: 30\n"
     ]
    }
   ],
   "source": [
    "\n",
    "def sum_of_even_numbers(n):\n",
    "    # Initialize the sum variable\n",
    "    total_sum = 0\n",
    "\n",
    "    # Loop through all numbers from 1 to n\n",
    "    for num in range(1, n + 1):\n",
    "        if num % 2 == 0:  # Check if the number is even\n",
    "            total_sum += num  # Add the even number to the sum\n",
    "\n",
    "    return total_sum\n",
    "\n",
    "# Input: Get the value of n from the user\n",
    "n = int(input(\"Enter a positive integer: \"))\n",
    "\n",
    "# Ensure the input is valid (positive integer)\n",
    "if n <= 0:\n",
    "    print(\"Please enter a positive integer.\")\n",
    "else:\n",
    "    result = sum_of_even_numbers(n)\n",
    "    print(f\"The sum of all even numbers between 1 and {n} is: {result}\")\n"
   ]
  },
  {
   "cell_type": "code",
   "execution_count": null,
   "metadata": {},
   "outputs": [],
   "source": []
  }
 ],
 "metadata": {
  "kernelspec": {
   "display_name": "base",
   "language": "python",
   "name": "python3"
  },
  "language_info": {
   "codemirror_mode": {
    "name": "ipython",
    "version": 3
   },
   "file_extension": ".py",
   "mimetype": "text/x-python",
   "name": "python",
   "nbconvert_exporter": "python",
   "pygments_lexer": "ipython3",
   "version": "3.12.7"
  }
 },
 "nbformat": 4,
 "nbformat_minor": 2
}
