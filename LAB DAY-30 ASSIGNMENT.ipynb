{
 "cells": [
  {
   "cell_type": "code",
   "execution_count": 2,
   "id": "03847967",
   "metadata": {},
   "outputs": [
    {
     "name": "stdout",
     "output_type": "stream",
     "text": [
      "Collecting textblob\n",
      "  Downloading textblob-0.19.0-py3-none-any.whl (624 kB)\n",
      "     -------------------------------------- 624.3/624.3 KB 9.9 MB/s eta 0:00:00\n",
      "Requirement already satisfied: nltk>=3.9 in c:\\users\\vavil\\appdata\\local\\programs\\python\\python310\\lib\\site-packages (from textblob) (3.9.1)\n",
      "Requirement already satisfied: click in c:\\users\\vavil\\appdata\\local\\programs\\python\\python310\\lib\\site-packages (from nltk>=3.9->textblob) (8.1.7)\n",
      "Requirement already satisfied: tqdm in c:\\users\\vavil\\appdata\\roaming\\python\\python310\\site-packages (from nltk>=3.9->textblob) (4.66.1)\n",
      "Requirement already satisfied: joblib in c:\\users\\vavil\\appdata\\local\\programs\\python\\python310\\lib\\site-packages (from nltk>=3.9->textblob) (1.3.2)\n",
      "Requirement already satisfied: regex>=2021.8.3 in c:\\users\\vavil\\appdata\\local\\programs\\python\\python310\\lib\\site-packages (from nltk>=3.9->textblob) (2024.11.6)\n",
      "Requirement already satisfied: colorama in c:\\users\\vavil\\appdata\\local\\programs\\python\\python310\\lib\\site-packages (from click->nltk>=3.9->textblob) (0.4.6)\n",
      "Installing collected packages: textblob\n",
      "Successfully installed textblob-0.19.0\n",
      "Note: you may need to restart the kernel to use updated packages.\n"
     ]
    },
    {
     "name": "stderr",
     "output_type": "stream",
     "text": [
      "WARNING: You are using pip version 22.0.4; however, version 24.3.1 is available.\n",
      "You should consider upgrading via the 'C:\\Users\\vavil\\AppData\\Local\\Programs\\Python\\Python310\\python.exe -m pip install --upgrade pip' command.\n"
     ]
    }
   ],
   "source": [
    "pip install textblob\n"
   ]
  },
  {
   "cell_type": "code",
   "execution_count": 3,
   "id": "f11954b8",
   "metadata": {},
   "outputs": [
    {
     "name": "stdout",
     "output_type": "stream",
     "text": [
      "Sentiment: Positive\n",
      "Polarity score: 0.47500000000000003\n"
     ]
    }
   ],
   "source": [
    "from textblob import TextBlob\n",
    "\n",
    "def sentiment_analysis(text):\n",
    "    \"\"\"\n",
    "    Perform sentiment analysis on the given text using TextBlob.\n",
    "    \n",
    "    :param text: The input text to analyze\n",
    "    :return: Sentiment result (Positive, Negative, or Neutral)\n",
    "    \"\"\"\n",
    "    # Create a TextBlob object\n",
    "    blob = TextBlob(text)\n",
    "    \n",
    "    # Get the polarity score\n",
    "    polarity = blob.sentiment.polarity\n",
    "    \n",
    "    # Determine the sentiment based on polarity score\n",
    "    if polarity > 0:\n",
    "        sentiment = \"Positive\"\n",
    "    elif polarity < 0:\n",
    "        sentiment = \"Negative\"\n",
    "    else:\n",
    "        sentiment = \"Neutral\"\n",
    "    \n",
    "    # Print the sentiment result\n",
    "    print(f\"Sentiment: {sentiment}\")\n",
    "    print(f\"Polarity score: {polarity}\")\n",
    "\n",
    "# Example text\n",
    "text = \"I love programming. It's so much fun and rewarding!\"\n",
    "\n",
    "# Perform sentiment analysis\n",
    "sentiment_analysis(text)\n"
   ]
  },
  {
   "cell_type": "code",
   "execution_count": null,
   "id": "6877fcc9",
   "metadata": {},
   "outputs": [],
   "source": []
  }
 ],
 "metadata": {
  "kernelspec": {
   "display_name": "Python 3 (ipykernel)",
   "language": "python",
   "name": "python3"
  },
  "language_info": {
   "codemirror_mode": {
    "name": "ipython",
    "version": 3
   },
   "file_extension": ".py",
   "mimetype": "text/x-python",
   "name": "python",
   "nbconvert_exporter": "python",
   "pygments_lexer": "ipython3",
   "version": "3.10.5"
  }
 },
 "nbformat": 4,
 "nbformat_minor": 5
}
