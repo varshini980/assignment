{
 "cells": [
  {
   "cell_type": "code",
   "execution_count": 1,
   "id": "57936bc0",
   "metadata": {},
   "outputs": [
    {
     "name": "stdout",
     "output_type": "stream",
     "text": [
      "Named Entities and Their Types:\n",
      "Barack Obama: PERSON\n",
      "44th: ORDINAL\n",
      "the United States: GPE\n",
      "Hawaii: GPE\n",
      "Harvard University: ORG\n",
      "1991: DATE\n"
     ]
    }
   ],
   "source": [
    "import spacy\n",
    "\n",
    "def named_entity_recognition(text):\n",
    "    \"\"\"\n",
    "    Perform Named Entity Recognition (NER) on the given text using SpaCy.\n",
    "\n",
    "    :param text: The input text\n",
    "    \"\"\"\n",
    "    # Load the SpaCy English language model\n",
    "    nlp = spacy.load(\"en_core_web_sm\")\n",
    "    \n",
    "    # Process the text\n",
    "    doc = nlp(text)\n",
    "    \n",
    "    # Extract and print entities and their types\n",
    "    print(\"Named Entities and Their Types:\")\n",
    "    for ent in doc.ents:\n",
    "        print(f\"{ent.text}: {ent.label_}\")\n",
    "\n",
    "# Example text\n",
    "text = \"Barack Obama was the 44th President of the United States. He was born in Hawaii and graduated from Harvard University in 1991.\"\n",
    "\n",
    "# Perform NER\n",
    "named_entity_recognition(text)\n"
   ]
  },
  {
   "cell_type": "code",
   "execution_count": null,
   "id": "04c2a70e",
   "metadata": {},
   "outputs": [],
   "source": []
  }
 ],
 "metadata": {
  "kernelspec": {
   "display_name": "Python 3 (ipykernel)",
   "language": "python",
   "name": "python3"
  },
  "language_info": {
   "codemirror_mode": {
    "name": "ipython",
    "version": 3
   },
   "file_extension": ".py",
   "mimetype": "text/x-python",
   "name": "python",
   "nbconvert_exporter": "python",
   "pygments_lexer": "ipython3",
   "version": "3.10.5"
  }
 },
 "nbformat": 4,
 "nbformat_minor": 5
}
