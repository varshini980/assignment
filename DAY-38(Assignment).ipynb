{
 "cells": [
  {
   "cell_type": "code",
   "execution_count": 2,
   "metadata": {},
   "outputs": [
    {
     "name": "stdout",
     "output_type": "stream",
     "text": [
      "Predicted Category: Spam\n"
     ]
    }
   ],
   "source": [
    "from sklearn.feature_extraction.text import TfidfVectorizer\n",
    "from sklearn.tree import DecisionTreeClassifier\n",
    "from sklearn.pipeline import make_pipeline\n",
    "\n",
    "# Sample training data\n",
    "texts = [\"Spam messages are annoying\", \"I won a lottery\", \"This is a normal message\", \n",
    "         \"Congratulations! You won a prize\", \"Hello, how are you doing?\"]\n",
    "labels = [\"Spam\", \"Spam\", \"Ham\", \"Spam\", \"Ham\"]  # Categories: Spam or Ham\n",
    "\n",
    "# Create a pipeline with TfidfVectorizer and DecisionTreeClassifier\n",
    "model = make_pipeline(TfidfVectorizer(), DecisionTreeClassifier())\n",
    "\n",
    "# Train the model\n",
    "model.fit(texts, labels)\n",
    "\n",
    "# Predict a new text category\n",
    "def predict_category(text):\n",
    "    return model.predict([text])[0]\n",
    "\n",
    "# Example usage\n",
    "new_text = \"You have won a free gift\"\n",
    "predicted_category = predict_category(new_text)\n",
    "print(f'Predicted Category: {predicted_category}')"
   ]
  },
  {
   "cell_type": "code",
   "execution_count": null,
   "metadata": {},
   "outputs": [],
   "source": []
  }
 ],
 "metadata": {
  "language_info": {
   "name": "python"
  }
 },
 "nbformat": 4,
 "nbformat_minor": 2
}
