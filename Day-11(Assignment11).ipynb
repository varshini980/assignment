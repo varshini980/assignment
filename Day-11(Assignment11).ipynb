{
 "cells": [
  {
   "cell_type": "code",
   "execution_count": 1,
   "metadata": {},
   "outputs": [
    {
     "name": "stdout",
     "output_type": "stream",
     "text": [
      "Webpage Title: Example Domain\n"
     ]
    }
   ],
   "source": [
    "import requests\n",
    "from bs4 import BeautifulSoup\n",
    "\n",
    "def fetch_webpage_title(url):\n",
    "    \"\"\"\n",
    "    Fetches and prints the title of the given webpage.\n",
    "\n",
    "    Args:\n",
    "        url (str): The URL of the webpage.\n",
    "\n",
    "    Returns:\n",
    "        str: The title of the webpage.\n",
    "    \"\"\"\n",
    "    try:\n",
    "        # Send a GET request to the URL\n",
    "        response = requests.get(url)\n",
    "        # Check if the request was successful\n",
    "        response.raise_for_status()\n",
    "        # Parse the webpage content\n",
    "        soup = BeautifulSoup(response.text, 'html.parser')\n",
    "        # Extract the title\n",
    "        title = soup.title.string if soup.title else \"No title found\"\n",
    "        return title\n",
    "    except requests.exceptions.RequestException as e:\n",
    "        return f\"Error fetching the webpage: {e}\"\n",
    "\n",
    "# Test the function with the provided URL\n",
    "test_url = 'https://example.com'\n",
    "webpage_title = fetch_webpage_title(test_url)\n",
    "print(\"Webpage Title:\", webpage_title)\n"
   ]
  },
  {
   "cell_type": "code",
   "execution_count": null,
   "metadata": {},
   "outputs": [],
   "source": []
  }
 ],
 "metadata": {
  "kernelspec": {
   "display_name": "base",
   "language": "python",
   "name": "python3"
  },
  "language_info": {
   "codemirror_mode": {
    "name": "ipython",
    "version": 3
   },
   "file_extension": ".py",
   "mimetype": "text/x-python",
   "name": "python",
   "nbconvert_exporter": "python",
   "pygments_lexer": "ipython3",
   "version": "3.12.7"
  }
 },
 "nbformat": 4,
 "nbformat_minor": 2
}
