{
 "cells": [
  {
   "cell_type": "code",
   "execution_count": 1,
   "metadata": {},
   "outputs": [
    {
     "name": "stdout",
     "output_type": "stream",
     "text": [
      "Bag of Words Representation:\n",
      "   amazing  deep  fun  is  learning  love  machine\n",
      "0        0     0    0   0         1     1        1\n",
      "1        0     0    1   1         1     0        1\n",
      "2        1     1    0   1         1     0        0\n",
      "\n",
      "TF-IDF Representation:\n",
      "    amazing      deep       fun        is  learning      love   machine\n",
      "0  0.000000  0.000000  0.000000  0.000000  0.425441  0.720333  0.547832\n",
      "1  0.000000  0.000000  0.631745  0.480458  0.373119  0.000000  0.480458\n",
      "2  0.584483  0.584483  0.000000  0.444514  0.345205  0.000000  0.000000\n"
     ]
    }
   ],
   "source": [
    "from sklearn.feature_extraction.text import CountVectorizer, TfidfVectorizer\n",
    "import pandas as pd\n",
    "\n",
    "# Sample input texts\n",
    "texts = [\"I love machine learning\", \"Machine learning is fun\", \"Deep learning is amazing\"]\n",
    "\n",
    "# Convert text into Bag of Words representation\n",
    "bow_vectorizer = CountVectorizer()\n",
    "bow_matrix = bow_vectorizer.fit_transform(texts)\n",
    "\n",
    "# Convert BoW matrix to a DataFrame for better readability\n",
    "bow_df = pd.DataFrame(bow_matrix.toarray(), columns=bow_vectorizer.get_feature_names_out())\n",
    "print(\"Bag of Words Representation:\")\n",
    "print(bow_df)\n",
    "\n",
    "# Convert text into TF-IDF representation\n",
    "tfidf_vectorizer = TfidfVectorizer()\n",
    "tfidf_matrix = tfidf_vectorizer.fit_transform(texts)\n",
    "\n",
    "# Convert TF-IDF matrix to a DataFrame\n",
    "tfidf_df = pd.DataFrame(tfidf_matrix.toarray(), columns=tfidf_vectorizer.get_feature_names_out())\n",
    "print(\"\\nTF-IDF Representation:\")\n",
    "print(tfidf_df)"
   ]
  },
  {
   "cell_type": "code",
   "execution_count": null,
   "metadata": {},
   "outputs": [],
   "source": []
  }
 ],
 "metadata": {
  "kernelspec": {
   "display_name": "base",
   "language": "python",
   "name": "python3"
  },
  "language_info": {
   "codemirror_mode": {
    "name": "ipython",
    "version": 3
   },
   "file_extension": ".py",
   "mimetype": "text/x-python",
   "name": "python",
   "nbconvert_exporter": "python",
   "pygments_lexer": "ipython3",
   "version": "3.12.7"
  }
 },
 "nbformat": 4,
 "nbformat_minor": 2
}
