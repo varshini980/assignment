{
 "cells": [
  {
   "cell_type": "markdown",
   "metadata": {},
   "source": [
    "Write a Python script that:\n",
    "1. Tokenizes a sample paragraph into words and sentences"
   ]
  },
  {
   "cell_type": "code",
   "execution_count": 1,
   "metadata": {},
   "outputs": [
    {
     "name": "stdout",
     "output_type": "stream",
     "text": [
      "Word Tokens: ['This', 'is', 'an', 'example', 'paragraph', '.', 'It', 'contains', 'multiple', 'sentences', '.', 'We', 'can', 'tokenize', 'it', 'into', 'words', 'and', 'sentences', '.']\n",
      "Sentence Tokens: ['This is an example paragraph.', 'It contains multiple sentences.', 'We can tokenize it into words and sentences.']\n"
     ]
    }
   ],
   "source": [
    "from nltk.tokenize import word_tokenize, sent_tokenize\n",
    "\n",
    "def tokenize_text(text):\n",
    "  \"\"\"\n",
    "  Tokenizes the given text into words and sentences.\n",
    "\n",
    "  Args:\n",
    "      text: The input text.\n",
    "\n",
    "  Returns:\n",
    "      A tuple containing:\n",
    "          - word_tokens: A list of word tokens.\n",
    "          - sentence_tokens: A list of sentence tokens.\n",
    "  \"\"\"\n",
    "\n",
    "  # 1. Sentence Tokenization\n",
    "  sentence_tokens = sent_tokenize(text)\n",
    "\n",
    "  # 2. Word Tokenization\n",
    "  word_tokens = []\n",
    "  for sentence in sentence_tokens:\n",
    "    word_tokens.extend(word_tokenize(sentence)) \n",
    "\n",
    "  return word_tokens, sentence_tokens\n",
    "\n",
    "# Example Usage\n",
    "text = \"This is an example paragraph. It contains multiple sentences. We can tokenize it into words and sentences.\"\n",
    "word_tokens, sentence_tokens = tokenize_text(text)\n",
    "\n",
    "print(\"Word Tokens:\", word_tokens)\n",
    "print(\"Sentence Tokens:\", sentence_tokens)"
   ]
  }
 ],
 "metadata": {
  "kernelspec": {
   "display_name": "Python 3",
   "language": "python",
   "name": "python3"
  },
  "language_info": {
   "codemirror_mode": {
    "name": "ipython",
    "version": 3
   },
   "file_extension": ".py",
   "mimetype": "text/x-python",
   "name": "python",
   "nbconvert_exporter": "python",
   "pygments_lexer": "ipython3",
   "version": "3.12.4"
  }
 },
 "nbformat": 4,
 "nbformat_minor": 2
}
