{
 "cells": [
  {
   "cell_type": "code",
   "execution_count": 1,
   "id": "2fe37cf0",
   "metadata": {},
   "outputs": [
    {
     "name": "stdout",
     "output_type": "stream",
     "text": [
      "Cosine Similarity: 0.34\n"
     ]
    }
   ],
   "source": [
    "from sklearn.feature_extraction.text import TfidfVectorizer\n",
    "from sklearn.metrics.pairwise import cosine_similarity\n",
    "\n",
    "def calculate_cosine_similarity(string1, string2):\n",
    "    \"\"\"\n",
    "    Calculate the cosine similarity between two strings using TfidfVectorizer.\n",
    "\n",
    "    :param string1: The first input string\n",
    "    :param string2: The second input string\n",
    "    :return: Cosine similarity score\n",
    "    \"\"\"\n",
    "    # Initialize TfidfVectorizer\n",
    "    vectorizer = TfidfVectorizer()\n",
    "\n",
    "    # Transform the strings into TF-IDF vectors\n",
    "    tfidf_matrix = vectorizer.fit_transform([string1, string2])\n",
    "\n",
    "    # Calculate cosine similarity\n",
    "    similarity = cosine_similarity(tfidf_matrix[0:1], tfidf_matrix[1:2])\n",
    "    return similarity[0][0]\n",
    "\n",
    "# Test the function\n",
    "if __name__ == \"__main__\":\n",
    "    string1 = \"Data science is amazing.\"\n",
    "    string2 = \"I love learning data science.\"\n",
    "    \n",
    "    similarity_score = calculate_cosine_similarity(string1, string2)\n",
    "    print(f\"Cosine Similarity: {similarity_score:.2f}\")\n"
   ]
  },
  {
   "cell_type": "code",
   "execution_count": null,
   "id": "01ccf4b3",
   "metadata": {},
   "outputs": [],
   "source": []
  }
 ],
 "metadata": {
  "kernelspec": {
   "display_name": "Python 3 (ipykernel)",
   "language": "python",
   "name": "python3"
  },
  "language_info": {
   "codemirror_mode": {
    "name": "ipython",
    "version": 3
   },
   "file_extension": ".py",
   "mimetype": "text/x-python",
   "name": "python",
   "nbconvert_exporter": "python",
   "pygments_lexer": "ipython3",
   "version": "3.10.5"
  }
 },
 "nbformat": 4,
 "nbformat_minor": 5
}
