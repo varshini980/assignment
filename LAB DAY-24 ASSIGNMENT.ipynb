{
 "cells": [
  {
   "cell_type": "code",
   "execution_count": 4,
   "id": "def6f57f",
   "metadata": {},
   "outputs": [
    {
     "name": "stdout",
     "output_type": "stream",
     "text": [
      "10 Most Common Words:\n",
      "data: 2\n",
      "science: 2\n",
      "is: 1\n",
      "amazing: 1\n",
      "involves: 1\n",
      "machine: 1\n",
      "learning: 1\n",
      "and: 1\n",
      "artificial: 1\n",
      "intelligence: 1\n"
     ]
    },
    {
     "name": "stderr",
     "output_type": "stream",
     "text": [
      "[nltk_data] Downloading package punkt to\n",
      "[nltk_data]     C:\\Users\\vavil\\AppData\\Roaming\\nltk_data...\n",
      "[nltk_data]   Package punkt is already up-to-date!\n"
     ]
    }
   ],
   "source": [
    "import nltk\n",
    "from nltk.tokenize import word_tokenize\n",
    "from nltk.probability import FreqDist\n",
    "\n",
    "def eda_for_text(file_path):\n",
    "    \"\"\"\n",
    "    Perform exploratory data analysis (EDA) on text data.\n",
    "    \n",
    "    :param file_path: Path to the text file\n",
    "    \"\"\"\n",
    "    try:\n",
    "        # Load the text file\n",
    "        with open(file_path, 'r') as file:\n",
    "            text = file.read()\n",
    "        \n",
    "        # Tokenize the text\n",
    "        tokens = word_tokenize(text)\n",
    "        \n",
    "        # Filter tokens to include only alphabetic words\n",
    "        words = [word.lower() for word in tokens if word.isalpha()]\n",
    "        \n",
    "        # Compute the frequency distribution of words\n",
    "        freq_dist = FreqDist(words)\n",
    "        \n",
    "        # Display the 10 most common words\n",
    "        print(\"10 Most Common Words:\")\n",
    "        for word, count in freq_dist.most_common(10):\n",
    "            print(f\"{word}: {count}\")\n",
    "    \n",
    "    except FileNotFoundError:\n",
    "        print(f\"Error: File '{file_path}' not found.\")\n",
    "    except Exception as e:\n",
    "        print(f\"An error occurred: {e}\")\n",
    "\n",
    "# Test the program\n",
    "if __name__ == \"__main__\":\n",
    "    nltk.download('punkt')  # Download the tokenizer data\n",
    "    file_path = r\"C:\\Users\\vavil\\Downloads\\sample-1.txt\"  # Use your provided file path\n",
    "    eda_for_text(file_path)\n"
   ]
  },
  {
   "cell_type": "code",
   "execution_count": null,
   "id": "000453dd",
   "metadata": {},
   "outputs": [],
   "source": []
  }
 ],
 "metadata": {
  "kernelspec": {
   "display_name": "Python 3 (ipykernel)",
   "language": "python",
   "name": "python3"
  },
  "language_info": {
   "codemirror_mode": {
    "name": "ipython",
    "version": 3
   },
   "file_extension": ".py",
   "mimetype": "text/x-python",
   "name": "python",
   "nbconvert_exporter": "python",
   "pygments_lexer": "ipython3",
   "version": "3.10.5"
  }
 },
 "nbformat": 4,
 "nbformat_minor": 5
}
