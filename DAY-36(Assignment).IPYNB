{
 "cells": [
  {
   "cell_type": "code",
   "execution_count": 1,
   "metadata": {},
   "outputs": [
    {
     "name": "stdout",
     "output_type": "stream",
     "text": [
      "Predicted Category: Tech\n"
     ]
    }
   ],
   "source": [
    "from sklearn.feature_extraction.text import CountVectorizer\n",
    "from sklearn.naive_bayes import MultinomialNB\n",
    "from sklearn.pipeline import make_pipeline\n",
    "\n",
    "# Sample training data\n",
    "texts = [\"I love programming\", \"Python is great\", \"Machine learning is amazing\",\n",
    "         \"Cooking is fun\", \"I enjoy baking cakes\", \"Food is essential\"]\n",
    "labels = [\"Tech\", \"Tech\", \"Tech\", \"Food\", \"Food\", \"Food\"]  # Categories\n",
    "\n",
    "# Create a pipeline with CountVectorizer and MultinomialNB\n",
    "model = make_pipeline(CountVectorizer(), MultinomialNB())\n",
    "\n",
    "# Train the model\n",
    "model.fit(texts, labels)\n",
    "\n",
    "# Predict a new text category\n",
    "def predict_category(text):\n",
    "    return model.predict([text])[0]\n",
    "\n",
    "# Example usage\n",
    "new_text = \"I love coding in Python\"\n",
    "predicted_category = predict_category(new_text)\n",
    "print(f'Predicted Category: {predicted_category}')\n"
   ]
  },
  {
   "cell_type": "code",
   "execution_count": null,
   "metadata": {},
   "outputs": [],
   "source": []
  }
 ],
 "metadata": {
  "kernelspec": {
   "display_name": "base",
   "language": "python",
   "name": "python3"
  },
  "language_info": {
   "codemirror_mode": {
    "name": "ipython",
    "version": 3
   },
   "file_extension": ".py",
   "mimetype": "text/x-python",
   "name": "python",
   "nbconvert_exporter": "python",
   "pygments_lexer": "ipython3",
   "version": "3.12.7"
  }
 },
 "nbformat": 4,
 "nbformat_minor": 2
}
