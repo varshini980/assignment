{
 "cells": [
  {
   "cell_type": "code",
   "execution_count": 7,
   "id": "9105ccd3-f348-4a6c-a079-97e1cb7630f7",
   "metadata": {},
   "outputs": [
    {
     "name": "stdout",
     "output_type": "stream",
     "text": [
      "Requirement already satisfied: wordcloud in c:\\users\\lavan\\downloads\\harika\\lib\\site-packages (1.9.4)\n",
      "Requirement already satisfied: matplotlib in c:\\users\\lavan\\downloads\\harika\\lib\\site-packages (3.9.2)\n",
      "Requirement already satisfied: numpy>=1.6.1 in c:\\users\\lavan\\downloads\\harika\\lib\\site-packages (from wordcloud) (1.26.4)\n",
      "Requirement already satisfied: pillow in c:\\users\\lavan\\downloads\\harika\\lib\\site-packages (from wordcloud) (10.4.0)\n",
      "Requirement already satisfied: contourpy>=1.0.1 in c:\\users\\lavan\\downloads\\harika\\lib\\site-packages (from matplotlib) (1.2.0)\n",
      "Requirement already satisfied: cycler>=0.10 in c:\\users\\lavan\\downloads\\harika\\lib\\site-packages (from matplotlib) (0.11.0)\n",
      "Requirement already satisfied: fonttools>=4.22.0 in c:\\users\\lavan\\downloads\\harika\\lib\\site-packages (from matplotlib) (4.51.0)\n",
      "Requirement already satisfied: kiwisolver>=1.3.1 in c:\\users\\lavan\\downloads\\harika\\lib\\site-packages (from matplotlib) (1.4.4)\n",
      "Requirement already satisfied: packaging>=20.0 in c:\\users\\lavan\\downloads\\harika\\lib\\site-packages (from matplotlib) (24.1)\n",
      "Requirement already satisfied: pyparsing>=2.3.1 in c:\\users\\lavan\\downloads\\harika\\lib\\site-packages (from matplotlib) (3.1.2)\n",
      "Requirement already satisfied: python-dateutil>=2.7 in c:\\users\\lavan\\downloads\\harika\\lib\\site-packages (from matplotlib) (2.9.0.post0)\n",
      "Requirement already satisfied: six>=1.5 in c:\\users\\lavan\\downloads\\harika\\lib\\site-packages (from python-dateutil>=2.7->matplotlib) (1.16.0)\n"
     ]
    }
   ],
   "source": [
    "!pip install wordcloud matplotlib\n"
   ]
  },
  {
   "cell_type": "code",
   "execution_count": null,
   "id": "28fa6abb-d996-4088-a84c-e618580a8c2d",
   "metadata": {},
   "outputs": [],
   "source": [
    "from wordcloud import WordCloud\n",
    "import matplotlib.pyplot as plt\n",
    "\n",
    "def generate_wordcloud(text, output_filename):\n",
    "    # Create a WordCloud object\n",
    "    wordcloud = WordCloud(width=800, height=400, background_color='white').generate(text)\n",
    "    \n",
    "    # Display the generated WordCloud using matplotlib\n",
    "    plt.figure(figsize=(10, 5))\n",
    "    plt.imshow(wordcloud, interpolation='bilinear')\n",
    "    plt.axis('off')  # Hide the axes\n",
    "    plt.show()  # Show the WordCloud\n",
    "    \n",
    "    # Save the WordCloud image to a file\n",
    "    wordcloud.to_file(output_filename)\n",
    "\n",
    "# Test the function with the provided text\n",
    "text = 'data science machine learning artificial intelligence'\n",
    "output_filename = 'wordcloud_image.png'\n",
    "\n",
    "generate_wordcloud(text, output_filename)\n",
    "\n",
    "print(f\"WordCloud image saved as {output_filename}\")\n"
   ]
  },
  {
   "cell_type": "code",
   "execution_count": null,
   "id": "784e9654-ce0e-4e69-8fe7-1d3b35c6bceb",
   "metadata": {},
   "outputs": [],
   "source": []
  }
 ],
 "metadata": {
  "kernelspec": {
   "display_name": "Python 3 (ipykernel)",
   "language": "python",
   "name": "python3"
  },
  "language_info": {
   "codemirror_mode": {
    "name": "ipython",
    "version": 3
   },
   "file_extension": ".py",
   "mimetype": "text/x-python",
   "name": "python",
   "nbconvert_exporter": "python",
   "pygments_lexer": "ipython3",
   "version": "3.12.7"
  }
 },
 "nbformat": 4,
 "nbformat_minor": 5
}
