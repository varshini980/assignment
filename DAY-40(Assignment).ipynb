{
 "cells": [
  {
   "cell_type": "code",
   "execution_count": 1,
   "metadata": {},
   "outputs": [
    {
     "name": "stdout",
     "output_type": "stream",
     "text": [
      "Predicted Category: Spam\n"
     ]
    }
   ],
   "source": [
    "from sklearn.feature_extraction.text import TfidfVectorizer\n",
    "from sklearn.ensemble import RandomForestClassifier\n",
    "from sklearn.pipeline import make_pipeline\n",
    "\n",
    "# Sample training data\n",
    "texts = [\"Buy now and win a prize\", \"Normal email content\", \"Congratulations, you won!\", \n",
    "         \"Claim your free gift now\", \"Hello, how was your day?\"]\n",
    "labels = [\"Spam\", \"Ham\", \"Spam\", \"Spam\", \"Ham\"]  # Categories: Spam or Ham\n",
    "\n",
    "# Create a pipeline with TfidfVectorizer and RandomForestClassifier\n",
    "model = make_pipeline(TfidfVectorizer(), RandomForestClassifier(n_estimators=100))\n",
    "\n",
    "# Train the model\n",
    "model.fit(texts, labels)\n",
    "\n",
    "# Predict a new text category\n",
    "def predict_category(text):\n",
    "    return model.predict([text])[0]\n",
    "\n",
    "# Example usage\n",
    "new_text = \"You have won a lottery!\"\n",
    "predicted_category = predict_category(new_text)\n",
    "print(f'Predicted Category: {predicted_category}')"
   ]
  },
  {
   "cell_type": "code",
   "execution_count": null,
   "metadata": {},
   "outputs": [],
   "source": []
  }
 ],
 "metadata": {
  "kernelspec": {
   "display_name": "base",
   "language": "python",
   "name": "python3"
  },
  "language_info": {
   "codemirror_mode": {
    "name": "ipython",
    "version": 3
   },
   "file_extension": ".py",
   "mimetype": "text/x-python",
   "name": "python",
   "nbconvert_exporter": "python",
   "pygments_lexer": "ipython3",
   "version": "3.12.7"
  }
 },
 "nbformat": 4,
 "nbformat_minor": 2
}
